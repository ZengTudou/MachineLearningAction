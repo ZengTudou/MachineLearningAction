{
 "cells": [
  {
   "cell_type": "markdown",
   "metadata": {},
   "source": [
    "## 数据分析\n",
    "&emsp;数据中有16个样本，每个样本有2个特征，x1、x2，其中x1、x2都有三种可能的取值；总共有两个类别。\n",
    "#### 计算先验概率\n",
    "&emsp;p(y=1) = 10/16; p(y=-1)=6/16\n",
    "#### 计算类条件概率\n",
    "1. p(x1=1|y=1)=2/10;  p(x1=2|y=1)=4/10;  p(x1=3|y=1)=4/10\n",
    "2. p(x2=S|y=1)=2/10;  p(x2=L|y=1)=4/10;  p(x2=M|y=1)=4/10\n",
    "3. p(x1=1|y=-1)=3/6;  p(x1=2|y=-1)=2/6;  p(x1=3|y=-1)=1/6\n",
    "4. p(x2=S|y=-1)=3/6;  p(x2=L|y=-1)=1/6;  p(x2=M|y=-1)=2/6\n",
    "\n",
    "#### 预测x=(2,S)\n",
    "1. p(y=1|x)=p(y=1) * p(x1=2|y=1) * p(x2=S|y=1) = 10/16 * 4/10 * 2/10 = 0.05\n",
    "2. p(y=-1|x)=p(y=-1) * p(x1=2|y=-1) * p(x2=S|y=-1) = 6/16 * 2/6 * 3/6 = 0.0625\n",
    "\n",
    "#### 结论\n",
    "&emsp;由于p(y=-1|x) > p(y=1|x)，所以x=(2,S)的类别y为-1"
   ]
  },
  {
   "cell_type": "code",
   "execution_count": null,
   "metadata": {
    "collapsed": true
   },
   "outputs": [],
   "source": []
  }
 ],
 "metadata": {
  "kernelspec": {
   "display_name": "Python 3",
   "language": "python",
   "name": "python3"
  },
  "language_info": {
   "codemirror_mode": {
    "name": "ipython",
    "version": 3
   },
   "file_extension": ".py",
   "mimetype": "text/x-python",
   "name": "python",
   "nbconvert_exporter": "python",
   "pygments_lexer": "ipython3",
   "version": "3.6.2"
  }
 },
 "nbformat": 4,
 "nbformat_minor": 2
}
