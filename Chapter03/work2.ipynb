{
 "cells": [
  {
   "cell_type": "markdown",
   "metadata": {},
   "source": [
    "# 作业2\n",
    "通过图片可知，样本总数为14，其中正样本数为9，负样本数为5.\n",
    "为了方便计算，将数据集做如下处理：\n",
    "1、令特征的顺序为outlook、humidity、windy、temperature.\n",
    "2、在outlook特征下令summy=0,overeast=1,rainy=2；用同样的方式处理其他几个特征\n",
    "3、令输出(标签)yes=1,no=0\n",
    "通过上述处理以后可得到数据集如下：\n",
    "[\n",
    "[0,0,0,0,1],\n",
    "[0,0,0,0,1],\n",
    "[0,0,0,0,0],\n",
    "[0,0,0,0,0],\n",
    "[0,0,1,1,0],\n",
    "[1,1,0,1,1],\n",
    "[1,1,0,1,1],\n",
    "[1,1,0,1,1],\n",
    "[1,1,0,1,1],\n",
    "[2,1,1,2,1],\n",
    "[2,1,1,2,1],\n",
    "[2,0,1,2,1],\n",
    "[2,0,1,1,0],\n",
    "[2,1,1,2,0]\n",
    "]"
   ]
  },
  {
   "cell_type": "code",
   "execution_count": 11,
   "metadata": {},
   "outputs": [
    {
     "name": "stdout",
     "output_type": "stream",
     "text": [
      "当前计算的特征为： outlook , 对应的信息增益为： 0.2467498197744391\n",
      "当前计算的特征为： humidity , 对应的信息增益为： 0.15183550136234136\n",
      "当前计算的特征为： windy , 对应的信息增益为： 0.04812703040826927\n",
      "当前计算的特征为： temperatur , 对应的信息增益为： 0.029222565658954647\n",
      "最大的信息增益为： 0.2467498197744391 , 对应的特征为: outlook\n"
     ]
    }
   ],
   "source": [
    "dataSet = [[0,0,0,0,1],\n",
    "[0,0,0,0,1],\n",
    "[0,0,0,0,0],\n",
    "[0,0,0,0,0],\n",
    "[0,0,1,1,0],\n",
    "[1,1,0,1,1],\n",
    "[1,1,0,1,1],\n",
    "[1,1,0,1,1],\n",
    "[1,1,0,1,1],\n",
    "[2,1,1,2,1],\n",
    "[2,1,1,2,1],\n",
    "[2,0,1,2,1],\n",
    "[2,0,1,1,0],\n",
    "[2,1,1,2,0]]\n",
    "labels = [\"outlook\",\"humidity\",\"windy\",\"temperatur\"]\n",
    "\n",
    "from math import log\n",
    "import operator\n",
    "\n",
    "# 计算一个数据集的熵\n",
    "def calcShannonEnt(dataSet):\n",
    "    numEntries = len(dataSet)\n",
    "    labelCounts = {}\n",
    "    for featVec in dataSet:   # 先计算出数据集中每个标签的个数\n",
    "        currentLabel = featVec[-1]  # 取出标签\n",
    "        if currentLabel not in labelCounts:\n",
    "            labelCounts[currentLabel] = 0\n",
    "        labelCounts[currentLabel] += 1\n",
    "    shannonEnt = 0.0\n",
    "    for key in labelCounts:\n",
    "        prob = float(labelCounts[key]) / numEntries\n",
    "        shannonEnt -= prob * log(prob, 2)\n",
    "    return shannonEnt\n",
    "# 根据属性a和a的取值将数据集合划分\n",
    "def splitDataSet(dataSet, axis, value):\n",
    "    retDataSet = []\n",
    "    for featVec in dataSet:\n",
    "        if featVec[axis] == value:\n",
    "            reducedFeatVec = featVec[:axis]\n",
    "            reducedFeatVec.extend(featVec[axis+1:])\n",
    "            retDataSet.append(reducedFeatVec)\n",
    "    return retDataSet\n",
    "# 选择最优划分属性(信息增益最大的属性)\n",
    "def chooseBestFeatureToSplit(dataSet):\n",
    "    numFeatures = len(dataSet[0]) - 1  # 特征的个数\n",
    "    baseEntropy = calcShannonEnt(dataSet)\n",
    "    bestFeature = -1\n",
    "    bestInfoGain = 0.0\n",
    "    for i in range(numFeatures):\n",
    "        featList = [example[i] for example in dataSet]  # 取出i个特征所有可能的取值\n",
    "        uniqueVals = set(featList)\n",
    "        newEntropy = 0.0\n",
    "        for value in uniqueVals:\n",
    "            subDataSet = splitDataSet(dataSet, i, value)\n",
    "            newEntropy += (len(subDataSet) / float(len(dataSet))) * \\\n",
    "                          calcShannonEnt(subDataSet)\n",
    "        infoGain = baseEntropy - newEntropy\n",
    "        print(\"当前计算的特征为：\",labels[i], \", 对应的信息增益为：\",infoGain)\n",
    "        if(bestInfoGain < infoGain):\n",
    "            bestInfoGain = infoGain\n",
    "            bestFeature = i\n",
    "    return bestFeature,bestInfoGain\n",
    "result = chooseBestFeatureToSplit(dataSet)\n",
    "print(\"最大的信息增益为：\",result[1],\", 对应的特征为:\",labels[result[0]])"
   ]
  }
 ],
 "metadata": {
  "kernelspec": {
   "display_name": "Python 3",
   "language": "python",
   "name": "python3"
  },
  "language_info": {
   "codemirror_mode": {
    "name": "ipython",
    "version": 3
   },
   "file_extension": ".py",
   "mimetype": "text/x-python",
   "name": "python",
   "nbconvert_exporter": "python",
   "pygments_lexer": "ipython3",
   "version": "3.6.2"
  }
 },
 "nbformat": 4,
 "nbformat_minor": 2
}
